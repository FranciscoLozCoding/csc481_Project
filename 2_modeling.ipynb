{
  "nbformat": 4,
  "nbformat_minor": 0,
  "metadata": {
    "colab": {
      "provenance": []
    },
    "kernelspec": {
      "name": "python3",
      "display_name": "Python 3"
    },
    "language_info": {
      "name": "python"
    }
  },
  "cells": [
    {
      "cell_type": "markdown",
      "source": [
        "## Francisco Lozano | Modeling | CSC 481 section 701\n",
        "---"
      ],
      "metadata": {
        "id": "_3OTGWH5Kjwz"
      }
    },
    {
      "cell_type": "markdown",
      "source": [
        "We will begin by setting up our environment and helper functions"
      ],
      "metadata": {
        "id": "_rvvfZJkLVtW"
      }
    },
    {
      "cell_type": "markdown",
      "source": [
        "## Enviroment Setup"
      ],
      "metadata": {
        "id": "aOu6O2fELdeq"
      }
    },
    {
      "cell_type": "code",
      "execution_count": null,
      "metadata": {
        "id": "wmi-5pjQKf1A"
      },
      "outputs": [],
      "source": []
    }
  ]
}