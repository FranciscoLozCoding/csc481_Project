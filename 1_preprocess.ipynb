{
  "nbformat": 4,
  "nbformat_minor": 0,
  "metadata": {
    "colab": {
      "provenance": []
    },
    "kernelspec": {
      "name": "python3",
      "display_name": "Python 3"
    },
    "language_info": {
      "name": "python"
    }
  },
  "cells": [
    {
      "cell_type": "markdown",
      "source": [
        "## Francisco Lozano | Preprocess | CSC 481 section 701\n",
        "---"
      ],
      "metadata": {
        "id": "e9ifP-s6p_GS"
      }
    },
    {
      "cell_type": "markdown",
      "source": [
        "We will begin by setting up our environment"
      ],
      "metadata": {
        "id": "D61TNN5-qCwp"
      }
    },
    {
      "cell_type": "markdown",
      "source": [
        "## Enviroment Setup"
      ],
      "metadata": {
        "id": "myfKxBGEqHZx"
      }
    },
    {
      "cell_type": "code",
      "execution_count": null,
      "metadata": {
        "id": "4QV-WyUZwtDs"
      },
      "outputs": [],
      "source": [
        "# import libs\n",
        "import cv2\n",
        "import numpy as np\n",
        "import matplotlib.pyplot as plt\n",
        "from enum import Enum\n",
        "from google.colab import drive\n",
        "from scipy import ndimage\n",
        "from scipy.signal import find_peaks\n",
        "from scipy.ndimage import median_filter #similiar as medfilt2 in MATLAB"
      ]
    },
    {
      "cell_type": "code",
      "source": [
        "#read image\n",
        "IMAGE_PATH = 'drowsy.png'\n",
        "IMAGE = cv2.imread(IMAGE_PATH)\n",
        "\n",
        "# display original image\n",
        "plt.axis('off')  # Hide axes\n",
        "plt.imshow(cv2.cvtColor(IMAGE, cv2.COLOR_BGR2RGB))"
      ],
      "metadata": {
        "id": "A-ylXY31qTu9"
      },
      "execution_count": null,
      "outputs": []
    }
  ]
}